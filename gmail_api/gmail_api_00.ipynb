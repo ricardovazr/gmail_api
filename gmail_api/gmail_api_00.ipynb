{
 "cells": [
  {
   "attachments": {},
   "cell_type": "markdown",
   "metadata": {},
   "source": [
    "# Before use it.\n",
    "Please take a look at the README file to understand the functions available"
   ]
  },
  {
   "attachments": {},
   "cell_type": "markdown",
   "metadata": {},
   "source": [
    "# Installing basic dependencies"
   ]
  },
  {
   "cell_type": "code",
   "execution_count": 81,
   "metadata": {},
   "outputs": [
    {
     "name": "stdout",
     "output_type": "stream",
     "text": [
      "Requirement already satisfied: google-api-python-client in c:\\users\\ricar\\appdata\\local\\programs\\python\\python310\\lib\\site-packages (2.82.0)\n",
      "Requirement already satisfied: google-auth-httplib2 in c:\\users\\ricar\\appdata\\local\\programs\\python\\python310\\lib\\site-packages (0.1.0)\n",
      "Requirement already satisfied: google-auth-oauthlib in c:\\users\\ricar\\appdata\\local\\programs\\python\\python310\\lib\\site-packages (1.0.0)\n",
      "Requirement already satisfied: google-auth<3.0.0dev,>=1.19.0 in c:\\users\\ricar\\appdata\\local\\programs\\python\\python310\\lib\\site-packages (from google-api-python-client) (2.16.2)\n",
      "Requirement already satisfied: google-api-core!=2.0.*,!=2.1.*,!=2.2.*,!=2.3.0,<3.0.0dev,>=1.31.5 in c:\\users\\ricar\\appdata\\local\\programs\\python\\python310\\lib\\site-packages (from google-api-python-client) (2.11.0)\n",
      "Requirement already satisfied: httplib2<1dev,>=0.15.0 in c:\\users\\ricar\\appdata\\local\\programs\\python\\python310\\lib\\site-packages (from google-api-python-client) (0.21.0)\n",
      "Requirement already satisfied: uritemplate<5,>=3.0.1 in c:\\users\\ricar\\appdata\\local\\programs\\python\\python310\\lib\\site-packages (from google-api-python-client) (4.1.1)\n",
      "Requirement already satisfied: six in c:\\users\\ricar\\appdata\\local\\programs\\python\\python310\\lib\\site-packages (from google-auth-httplib2) (1.16.0)\n",
      "Requirement already satisfied: requests-oauthlib>=0.7.0 in c:\\users\\ricar\\appdata\\local\\programs\\python\\python310\\lib\\site-packages (from google-auth-oauthlib) (1.3.1)\n",
      "Requirement already satisfied: protobuf!=3.20.0,!=3.20.1,!=4.21.0,!=4.21.1,!=4.21.2,!=4.21.3,!=4.21.4,!=4.21.5,<5.0.0dev,>=3.19.5 in c:\\users\\ricar\\appdata\\local\\programs\\python\\python310\\lib\\site-packages (from google-api-core!=2.0.*,!=2.1.*,!=2.2.*,!=2.3.0,<3.0.0dev,>=1.31.5->google-api-python-client) (4.22.1)\n",
      "Requirement already satisfied: requests<3.0.0dev,>=2.18.0 in c:\\users\\ricar\\appdata\\local\\programs\\python\\python310\\lib\\site-packages (from google-api-core!=2.0.*,!=2.1.*,!=2.2.*,!=2.3.0,<3.0.0dev,>=1.31.5->google-api-python-client) (2.28.1)\n",
      "Requirement already satisfied: googleapis-common-protos<2.0dev,>=1.56.2 in c:\\users\\ricar\\appdata\\local\\programs\\python\\python310\\lib\\site-packages (from google-api-core!=2.0.*,!=2.1.*,!=2.2.*,!=2.3.0,<3.0.0dev,>=1.31.5->google-api-python-client) (1.58.0)\n",
      "Requirement already satisfied: cachetools<6.0,>=2.0.0 in c:\\users\\ricar\\appdata\\local\\programs\\python\\python310\\lib\\site-packages (from google-auth<3.0.0dev,>=1.19.0->google-api-python-client) (5.2.0)\n",
      "Requirement already satisfied: rsa<5,>=3.1.4 in c:\\users\\ricar\\appdata\\local\\programs\\python\\python310\\lib\\site-packages (from google-auth<3.0.0dev,>=1.19.0->google-api-python-client) (4.9)\n",
      "Requirement already satisfied: pyasn1-modules>=0.2.1 in c:\\users\\ricar\\appdata\\local\\programs\\python\\python310\\lib\\site-packages (from google-auth<3.0.0dev,>=1.19.0->google-api-python-client) (0.2.8)\n",
      "Requirement already satisfied: pyparsing!=3.0.0,!=3.0.1,!=3.0.2,!=3.0.3,<4,>=2.4.2 in c:\\users\\ricar\\appdata\\local\\programs\\python\\python310\\lib\\site-packages (from httplib2<1dev,>=0.15.0->google-api-python-client) (3.0.8)\n",
      "Requirement already satisfied: oauthlib>=3.0.0 in c:\\users\\ricar\\appdata\\local\\programs\\python\\python310\\lib\\site-packages (from requests-oauthlib>=0.7.0->google-auth-oauthlib) (3.2.0)\n",
      "Requirement already satisfied: pyasn1<0.5.0,>=0.4.6 in c:\\users\\ricar\\appdata\\local\\programs\\python\\python310\\lib\\site-packages (from pyasn1-modules>=0.2.1->google-auth<3.0.0dev,>=1.19.0->google-api-python-client) (0.4.8)\n",
      "Requirement already satisfied: certifi>=2017.4.17 in c:\\users\\ricar\\appdata\\local\\programs\\python\\python310\\lib\\site-packages (from requests<3.0.0dev,>=2.18.0->google-api-core!=2.0.*,!=2.1.*,!=2.2.*,!=2.3.0,<3.0.0dev,>=1.31.5->google-api-python-client) (2022.6.15)\n",
      "Requirement already satisfied: urllib3<1.27,>=1.21.1 in c:\\users\\ricar\\appdata\\local\\programs\\python\\python310\\lib\\site-packages (from requests<3.0.0dev,>=2.18.0->google-api-core!=2.0.*,!=2.1.*,!=2.2.*,!=2.3.0,<3.0.0dev,>=1.31.5->google-api-python-client) (1.26.11)\n",
      "Requirement already satisfied: charset-normalizer<3,>=2 in c:\\users\\ricar\\appdata\\local\\programs\\python\\python310\\lib\\site-packages (from requests<3.0.0dev,>=2.18.0->google-api-core!=2.0.*,!=2.1.*,!=2.2.*,!=2.3.0,<3.0.0dev,>=1.31.5->google-api-python-client) (2.1.0)\n",
      "Requirement already satisfied: idna<4,>=2.5 in c:\\users\\ricar\\appdata\\local\\programs\\python\\python310\\lib\\site-packages (from requests<3.0.0dev,>=2.18.0->google-api-core!=2.0.*,!=2.1.*,!=2.2.*,!=2.3.0,<3.0.0dev,>=1.31.5->google-api-python-client) (3.3)\n"
     ]
    },
    {
     "name": "stderr",
     "output_type": "stream",
     "text": [
      "\n",
      "[notice] A new release of pip available: 22.2.2 -> 23.0.1\n",
      "[notice] To update, run: python.exe -m pip install --upgrade pip\n"
     ]
    },
    {
     "name": "stdout",
     "output_type": "stream",
     "text": [
      "Collecting names\n",
      "  Downloading names-0.3.0.tar.gz (789 kB)\n",
      "     -------------------------------------- 789.1/789.1 kB 3.8 MB/s eta 0:00:00\n",
      "  Preparing metadata (setup.py): started\n",
      "  Preparing metadata (setup.py): finished with status 'done'\n",
      "Building wheels for collected packages: names\n",
      "  Building wheel for names (setup.py): started\n",
      "  Building wheel for names (setup.py): finished with status 'done'\n",
      "  Created wheel for names: filename=names-0.3.0-py3-none-any.whl size=803699 sha256=7e18953fbc17f2ed143da4e918cc0073a7ab3fc1427293dcf04f96cd6485f306\n",
      "  Stored in directory: c:\\users\\ricar\\appdata\\local\\pip\\cache\\wheels\\fc\\9a\\6f\\78f4282bbcaa2d8c678b73c54c0bb1b7a04009f0d7cec79fce\n",
      "Successfully built names\n",
      "Installing collected packages: names\n",
      "Successfully installed names-0.3.0\n"
     ]
    },
    {
     "name": "stderr",
     "output_type": "stream",
     "text": [
      "\n",
      "[notice] A new release of pip available: 22.2.2 -> 23.0.1\n",
      "[notice] To update, run: python.exe -m pip install --upgrade pip\n"
     ]
    }
   ],
   "source": [
    "!pip install --upgrade google-api-python-client google-auth-httplib2 google-auth-oauthlib\n",
    "!pip install names"
   ]
  },
  {
   "attachments": {},
   "cell_type": "markdown",
   "metadata": {},
   "source": [
    "# Connecting to the API"
   ]
  },
  {
   "cell_type": "code",
   "execution_count": 1,
   "metadata": {},
   "outputs": [
    {
     "name": "stdout",
     "output_type": "stream",
     "text": [
      "Please visit this URL to authorize this application: https://accounts.google.com/o/oauth2/auth?response_type=code&client_id=164936920837-ibrmq5pp0eqv43snev0d19fsarqc64cj.apps.googleusercontent.com&redirect_uri=http%3A%2F%2Flocalhost%3A53208%2F&scope=https%3A%2F%2Fwww.googleapis.com%2Fauth%2Fgmail.readonly+https%3A%2F%2Fwww.googleapis.com%2Fauth%2Fgmail.modify+https%3A%2F%2Fwww.googleapis.com%2Fauth%2Fgmail.settings.basic&state=ZOUkcpz2rSKwW7ieu8sln8Pp9Vs9aD&access_type=offline\n",
      "Welcome vazrgcp@gmail.com.\n",
      "The gmail API is ready to use.\n"
     ]
    }
   ],
   "source": [
    "import os\n",
    "from gmail import api\n",
    "\n",
    "api = api()\n"
   ]
  },
  {
   "attachments": {},
   "cell_type": "markdown",
   "metadata": {},
   "source": [
    "# Sending an email"
   ]
  },
  {
   "cell_type": "code",
   "execution_count": 31,
   "metadata": {},
   "outputs": [
    {
     "name": "stdout",
     "output_type": "stream",
     "text": [
      "<google.oauth2.credentials.Credentials object at 0x00000160D6887BE0>\n",
      "Message Id: 18708df8d737a32a\n"
     ]
    },
    {
     "data": {
      "text/plain": [
       "{'id': '18708df8d737a32a',\n",
       " 'threadId': '18708df8d737a32a',\n",
       " 'labelIds': ['UNREAD', 'SENT', 'INBOX']}"
      ]
     },
     "execution_count": 31,
     "metadata": {},
     "output_type": "execute_result"
    }
   ],
   "source": [
    "# Please fill the variable to set define the email parameters\n",
    "\n",
    "sender_mail = 'gduser1@workspacesamples.dev'\n",
    "recipient_mail = 'vazrgcp@gmail.com'\n",
    "subject = 'SampleCV - Data Engineer'\n",
    "body = 'Hi, I would like to apply for the Data engineer position.\\n\\nKind regards.\\nRicardo Vaz'\n",
    "\n",
    "param = {'from': sender_mail,\n",
    "            'to': recipient_mail,\n",
    "            'subject': subject,\n",
    "            'body': body}\n",
    "\n",
    "\n",
    "\n",
    "api.gmail_send_message(param)"
   ]
  },
  {
   "attachments": {},
   "cell_type": "markdown",
   "metadata": {},
   "source": [
    "# Looking for an email containing a specific word"
   ]
  },
  {
   "cell_type": "code",
   "execution_count": 34,
   "metadata": {},
   "outputs": [
    {
     "name": "stdout",
     "output_type": "stream",
     "text": [
      "{'messages': [{'id': '18708df8d737a32a', 'threadId': '18708df8d737a32a'}], 'resultSizeEstimate': 1}\n"
     ]
    }
   ],
   "source": [
    "search_response = api.gmail_search_message(word_search='Ricardo')\n"
   ]
  },
  {
   "attachments": {},
   "cell_type": "markdown",
   "metadata": {},
   "source": [
    "# Retrieving metadata mail"
   ]
  },
  {
   "cell_type": "code",
   "execution_count": 36,
   "metadata": {},
   "outputs": [
    {
     "data": {
      "text/plain": [
       "{'id': '18708df8d737a32a',\n",
       " 'threadId': '18708df8d737a32a',\n",
       " 'labelIds': ['UNREAD', 'SENT', 'INBOX'],\n",
       " 'snippet': 'Hi, I would like to apply for the Data engineer position. Kind regards. Ricardo Vaz',\n",
       " 'payload': {'partId': '',\n",
       "  'mimeType': 'text/plain',\n",
       "  'filename': '',\n",
       "  'headers': [{'name': 'Received',\n",
       "    'value': 'from 164936920837 named unknown by gmailapi.google.com with HTTPREST; Wed, 22 Mar 2023 03:31:21 -0700'},\n",
       "   {'name': 'Content-Type', 'value': 'text/plain; charset=\"utf-8\"'},\n",
       "   {'name': 'Content-Transfer-Encoding', 'value': '7bit'},\n",
       "   {'name': 'MIME-Version', 'value': '1.0'},\n",
       "   {'name': 'To', 'value': 'vazrgcp@gmail.com'},\n",
       "   {'name': 'From', 'value': 'vazrgcp@gmail.com'},\n",
       "   {'name': 'Subject', 'value': 'SampleCV - Data Engineer'},\n",
       "   {'name': 'Date', 'value': 'Wed, 22 Mar 2023 03:31:21 -0700'},\n",
       "   {'name': 'Message-Id',\n",
       "    'value': '<CALAubD+RTe6K1S+sCiw4ttS__YdESLoJYSNAMM3EVn5pOzFaKQ@mail.gmail.com>'}],\n",
       "  'body': {'size': 85,\n",
       "   'data': 'SGksIEkgd291bGQgbGlrZSB0byBhcHBseSBmb3IgdGhlIERhdGEgZW5naW5lZXIgcG9zaXRpb24uCgpLaW5kIHJlZ2FyZHMuClJpY2FyZG8gVmF6Cg=='}},\n",
       " 'sizeEstimate': 507,\n",
       " 'historyId': '11340',\n",
       " 'internalDate': '1679481081000'}"
      ]
     },
     "execution_count": 36,
     "metadata": {},
     "output_type": "execute_result"
    }
   ],
   "source": [
    "id = search_response['messages'][0]['id']\n",
    "metadata_mail = api.read_message(id)\n",
    "\n",
    "metadata_mail"
   ]
  },
  {
   "attachments": {},
   "cell_type": "markdown",
   "metadata": {},
   "source": [
    "# ++++++ Extra features +++++++\n",
    "\n"
   ]
  },
  {
   "attachments": {},
   "cell_type": "markdown",
   "metadata": {},
   "source": [
    "# Generating samples emails for testing"
   ]
  },
  {
   "cell_type": "code",
   "execution_count": 28,
   "metadata": {},
   "outputs": [
    {
     "name": "stdout",
     "output_type": "stream",
     "text": [
      "<google.oauth2.credentials.Credentials object at 0x00000160D65F1240>\n",
      "Message Id: 18708dd3a9a2b480\n",
      "<google.oauth2.credentials.Credentials object at 0x00000160D65F1CF0>\n",
      "Message Id: 18708dd40cc1e602\n",
      "<google.oauth2.credentials.Credentials object at 0x00000160D65F0E80>\n",
      "Message Id: 18708dd44b64bcb7\n",
      "<google.oauth2.credentials.Credentials object at 0x00000160D65F1CC0>\n",
      "Message Id: 18708dd492763ba1\n",
      "<google.oauth2.credentials.Credentials object at 0x00000160D65F3F40>\n",
      "Message Id: 18708dd4dc7d56d4\n",
      "<google.oauth2.credentials.Credentials object at 0x00000160D65F2200>\n",
      "Message Id: 18708dd548287fdb\n",
      "<google.oauth2.credentials.Credentials object at 0x00000160D65F1210>\n",
      "Message Id: 18708dd58982a631\n",
      "<google.oauth2.credentials.Credentials object at 0x00000160D65F22F0>\n",
      "Message Id: 18708dd5ea041cf5\n",
      "<google.oauth2.credentials.Credentials object at 0x00000160D65F29B0>\n",
      "Message Id: 18708dd62e6e8ac8\n",
      "<google.oauth2.credentials.Credentials object at 0x00000160D65F1630>\n",
      "Message Id: 18708dd6af4c6f77\n",
      "<google.oauth2.credentials.Credentials object at 0x00000160D65F3520>\n",
      "Message Id: 18708dd6eefb1dd9\n",
      "<google.oauth2.credentials.Credentials object at 0x00000160D65F2E00>\n",
      "Message Id: 18708dd73bc12258\n",
      "<google.oauth2.credentials.Credentials object at 0x00000160D6651FF0>\n",
      "Message Id: 18708dd782da9db1\n",
      "<google.oauth2.credentials.Credentials object at 0x00000160D65F3D60>\n",
      "Message Id: 18708dd813df12ac\n",
      "<google.oauth2.credentials.Credentials object at 0x00000160D65F27D0>\n",
      "Message Id: 18708dd87ea9e67f\n",
      "<google.oauth2.credentials.Credentials object at 0x00000160D65F14E0>\n",
      "Message Id: 18708dd8c9432ff5\n",
      "<google.oauth2.credentials.Credentials object at 0x00000160D65F3F10>\n",
      "Message Id: 18708dd93d2760f2\n",
      "<google.oauth2.credentials.Credentials object at 0x00000160D65F2500>\n",
      "Message Id: 18708dd962d18bb9\n",
      "<google.oauth2.credentials.Credentials object at 0x00000160D6652080>\n",
      "Message Id: 18708dd9a0164c73\n",
      "<google.oauth2.credentials.Credentials object at 0x00000160D65F30D0>\n",
      "Message Id: 18708dda09848ddc\n"
     ]
    }
   ],
   "source": [
    "api.generate_sample(20)"
   ]
  },
  {
   "attachments": {},
   "cell_type": "markdown",
   "metadata": {},
   "source": [
    "# Collecting and organizing data based on Subject\n"
   ]
  },
  {
   "cell_type": "code",
   "execution_count": 38,
   "metadata": {},
   "outputs": [
    {
     "name": "stdout",
     "output_type": "stream",
     "text": [
      "Please write the word parameter you are looking for\n",
      "{'messages': [{'id': '18708df8d737a32a', 'threadId': '18708df8d737a32a'}, {'id': '18708dda09848ddc', 'threadId': '18708dda09848ddc'}, {'id': '18708dd9a0164c73', 'threadId': '18708dd9a0164c73'}, {'id': '18708dd962d18bb9', 'threadId': '18708dd962d18bb9'}, {'id': '18708dd93d2760f2', 'threadId': '18708dd93d2760f2'}, {'id': '18708dd8c9432ff5', 'threadId': '18708dd8c9432ff5'}, {'id': '18708dd87ea9e67f', 'threadId': '18708dd87ea9e67f'}, {'id': '18708dd813df12ac', 'threadId': '18708dd813df12ac'}, {'id': '18708dd782da9db1', 'threadId': '18708dd782da9db1'}, {'id': '18708dd73bc12258', 'threadId': '18708dd73bc12258'}, {'id': '18708dd6eefb1dd9', 'threadId': '18708dd6eefb1dd9'}, {'id': '18708dd6af4c6f77', 'threadId': '18708dd6af4c6f77'}, {'id': '18708dd62e6e8ac8', 'threadId': '18708dd62e6e8ac8'}, {'id': '18708dd5ea041cf5', 'threadId': '18708dd5ea041cf5'}, {'id': '18708dd58982a631', 'threadId': '18708dd58982a631'}, {'id': '18708dd548287fdb', 'threadId': '18708dd548287fdb'}, {'id': '18708dd4dc7d56d4', 'threadId': '18708dd4dc7d56d4'}, {'id': '18708dd492763ba1', 'threadId': '18708dd492763ba1'}, {'id': '18708dd44b64bcb7', 'threadId': '18708dd44b64bcb7'}, {'id': '18708dd40cc1e602', 'threadId': '18708dd40cc1e602'}, {'id': '18708dd3a9a2b480', 'threadId': '18708dd3a9a2b480'}, {'id': '1870397a4e7d0540', 'threadId': '1870397a4e7d0540'}], 'resultSizeEstimate': 22}\n",
      "________________________________________________________________________________\n",
      "\n",
      "BI ANALYST      - 0 applicants\n",
      "\n",
      "NAME                      | EMAIL                     | SUBJECT CONTENT\n",
      "________________________________________________________________________________\n",
      "\n",
      "DATA ANALYST    - 1 applicants\n",
      "\n",
      "NAME                      | EMAIL                     | SUBJECT CONTENT\n",
      " Chris Lamoureux          | vazrgcp@gmail.com         | samplecv - data analyst\n",
      "________________________________________________________________________________\n",
      "\n",
      "DATA ENGINEER   - 6 applicants\n",
      "\n",
      "NAME                      | EMAIL                     | SUBJECT CONTENT\n",
      " Julio Larmore            | vazrgcp@gmail.com         | samplecv - data engineer\n",
      " Everett Robleto          | vazrgcp@gmail.com         | samplecv - data engineer\n",
      " Rene Jackson             | vazrgcp@gmail.com         | samplecv - data engineer\n",
      " Thomas Franklin          | vazrgcp@gmail.com         | samplecv - data engineer\n",
      " Wendy Williams           | vazrgcp@gmail.com         | samplecv - data engineer\n",
      " Ricardo Vaz              | vazrgcp@gmail.com         | samplecv - data engineer\n",
      "________________________________________________________________________________\n",
      "\n",
      "DATA SCIENTIST  - 2 applicants\n",
      "\n",
      "NAME                      | EMAIL                     | SUBJECT CONTENT\n",
      " Mia Kuhn                 | vazrgcp@gmail.com         | samplecv - data scientist\n",
      " Nicole Santoro           | vazrgcp@gmail.com         | samplecv - data scientist\n",
      "________________________________________________________________________________\n",
      "\n",
      "PRODUCT MANAGER - 6 applicants\n",
      "\n",
      "NAME                      | EMAIL                     | SUBJECT CONTENT\n",
      " Kathleen Gillis          | vazrgcp@gmail.com         | samplecv - product manager\n",
      " Noel Mann                | vazrgcp@gmail.com         | samplecv - product manager\n",
      " Leonard Adkins           | vazrgcp@gmail.com         | samplecv - product manager\n",
      " Bruce Hubbard            | vazrgcp@gmail.com         | samplecv - product manager\n",
      " Kala Morales             | vazrgcp@gmail.com         | samplecv - product manager\n",
      " Mary Valencia            | vazrgcp@gmail.com         | samplecv - product manager\n",
      "________________________________________________________________________________\n",
      "\n",
      "PRODUCT OWNER   - 3 applicants\n",
      "\n",
      "NAME                      | EMAIL                     | SUBJECT CONTENT\n",
      " Jerry Collier            | vazrgcp@gmail.com         | samplecv - product owner\n",
      " Travis Kirby             | vazrgcp@gmail.com         | samplecv - product owner\n",
      " Han Eubanks              | vazrgcp@gmail.com         | samplecv - product owner\n"
     ]
    }
   ],
   "source": [
    "job_role_list = sorted(['data engineer', 'data analyst', 'data scientist', 'bi analyst', 'product owner', 'product manager', 'tech lead'])\n",
    "\n",
    "\n",
    "job_aplicants_list = dict(zip(job_role_list, [[] for x in job_role_list])) | {'undefined': []}\n",
    "search_response = api.gmail_search_message(word_search='')\n",
    "\n",
    "id_mail_list = sorted([x['id'] for x in search_response['messages']])\n",
    "\n",
    "for id in id_mail_list:\n",
    "    metadata_mail = api.read_message(id)\n",
    "    email = metadata_mail['payload']['headers'][5]['value']\n",
    "    candidate_name = metadata_mail['snippet'].split('.')[-1]\n",
    "    subject = metadata_mail['payload']['headers'][6]['value'].lower()\n",
    "\n",
    "    job_role = [job for job in job_role_list if subject.count(job) > 0]\n",
    "    if len(job_role) == 0:\n",
    "        job_role = 'undefined'\n",
    "    else:\n",
    "        job_role = job_role[0]\n",
    "\n",
    "    candidate_info = {'name': candidate_name, 'email': email, 'tag': subject}\n",
    "\n",
    "    job_aplicants_list[job_role].append(candidate_info)\n",
    "\n",
    "\n",
    "\n",
    "for job_role in job_role_list[:-1]:\n",
    "    print(f\"{'_'*80}\\n\")\n",
    "    print(f\"{job_role.upper():15} - {len(job_aplicants_list[job_role])} applicants\\n\")\n",
    "    print(f\"{'NAME':25} | {'EMAIL':25} | {'SUBJECT CONTENT'}\")\n",
    "    for candidate in job_aplicants_list[job_role]:\n",
    "        #print(candidate)\n",
    "        print(f\"{candidate['name']:25} | {candidate['email']:25} | {candidate['tag']}\")\n",
    "\n"
   ]
  },
  {
   "attachments": {},
   "cell_type": "markdown",
   "metadata": {},
   "source": [
    "### ____ END OF APPLICATION _____"
   ]
  }
 ],
 "metadata": {
  "kernelspec": {
   "display_name": "Python 3",
   "language": "python",
   "name": "python3"
  },
  "language_info": {
   "codemirror_mode": {
    "name": "ipython",
    "version": 3
   },
   "file_extension": ".py",
   "mimetype": "text/x-python",
   "name": "python",
   "nbconvert_exporter": "python",
   "pygments_lexer": "ipython3",
   "version": "3.10.4"
  },
  "orig_nbformat": 4
 },
 "nbformat": 4,
 "nbformat_minor": 2
}
